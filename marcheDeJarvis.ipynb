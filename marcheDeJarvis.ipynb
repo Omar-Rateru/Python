{
 "cells": [
  {
   "cell_type": "markdown",
   "metadata": {},
   "source": [
    "<div style=\"background-color:rgba(255, 0, 0, 0.57); border : 3px solid black; border-radius : 19px;margin : 1% ; padding : 3%;text-align : center;font-size : 3em;font-weight : bold;\">\n",
    "    Marche de Jarvis\n",
    "</div>\n",
    "<div style=\"text-align : center;\">Devoir fait par Omar ENADY et Jorys UGOLIN du groupe Pégasus </div>\n",
    "<p>\n",
    "Dans le cadre de la <strong>SAE202 : Exploration algorithmique d'un problème</strong> Il nous a été demandé de réaliser un projet mathématiques et informatique. Après concertation en groupe nous avons choisis de réaliser le projet <em>Marche de jarvis</em>.\n",
    "</p>\n",
    "<p>Voici la description qui nous a été donnée :</p>\n",
    "<ul>\n",
    "<li><strong>Niveau de difficulté</strong> : ☆</li>\n",
    "<li><strong>Description</strong> : En géométrie algorithmique la marche de Jarvis est un algorithme permettant de calculer\n",
    "l'enveloppe convexe d'un nuage de point.</li>\n",
    "<li><strong>Animation</strong> : Les diférentes étapes de l'algorithme</li>    \n",
    "</ul>\n",
    "<p>DIFFICULTÉ --> trouver un algo qui marche qu'avec les coordonnées.</p>\n",
    "<div><br>Les différentes étapes :</div>\n",
    "<ol><li> Les points du graphe en x et y, il faut les représenter dans un graphe.</li>\n",
    "<li> Après présentations des points nous partons du point le plus à gauche (abcisse le plus inférieur, x).</li>\n",
    "<li> Comparer les points pour trouver celui qui tourne le plus à gauche en partant du premier point pour trouver le point à \"éliminer\"</li>\n",
    "<li>Puis comparer tout les points grâce à une boucle.</li></ol>"
   ]
  },
  {
   "cell_type": "markdown",
   "metadata": {},
   "source": [
    "<div style=\"background-color:rgba(0, 0, 255, 0.57); border : 3px solid black; border-radius : 19px;margin : 0% 10% ; padding : 1%;text-align : center;font-size : 2em;\">\n",
    "    Bibliothèques\n",
    "</div>\n",
    "<p>Voici les bibliothèques dont nous aurons besoin pour l'exécution des programmes proposés.</p>"
   ]
  },
  {
   "cell_type": "code",
   "execution_count": 1,
   "metadata": {},
   "outputs": [],
   "source": [
    "from IPython.display import HTML\n",
    "from matplotlib.pyplot import *\n",
    "from matplotlib import *\n",
    "from random import *\n",
    "import math"
   ]
  },
  {
   "cell_type": "markdown",
   "metadata": {},
   "source": [
    "<div style=\"background-color:rgba(0, 0, 255, 0.57); border : 3px solid black; border-radius : 19px;margin : 0% 10% ; padding : 1%;text-align : center;font-size : 2em;\">\n",
    "    Etape 1 : Représentation dans un graphe.\n",
    "</div>"
   ]
  },
  {
   "cell_type": "markdown",
   "metadata": {},
   "source": [
    "<p>J'ai créer une fonction random qui créer une liste d'entier au hasard.\n",
    "</p>"
   ]
  },
  {
   "cell_type": "code",
   "execution_count": 2,
   "metadata": {},
   "outputs": [],
   "source": [
    "def random(x):\n",
    "    \"\"\"\n",
    "    x : nombre d'entier dans la liste\n",
    "    retourne une liste d'entier\n",
    "    \"\"\"\n",
    "    tab = []\n",
    "    i = 0\n",
    "    while i < x:\n",
    "        tab.append(randint(-10,10))\n",
    "        i += 1\n",
    "    return tab"
   ]
  },
  {
   "cell_type": "markdown",
   "metadata": {},
   "source": [
    "<p>Puis nous utiliserons la fonction plot qui représentera graphiquement les points en utilisant en paramètre une liste d'abcisse et d'ordonnée.</p>\n",
    "<p>Etape 1 : Les points du graphe en x et y, il faut les représenter dans un graphe.</p>"
   ]
  },
  {
   "cell_type": "code",
   "execution_count": 3,
   "metadata": {},
   "outputs": [
    {
     "data": {
      "text/plain": [
       "(-11.0, 11.0)"
      ]
     },
     "execution_count": 3,
     "metadata": {},
     "output_type": "execute_result"
    },
    {
     "data": {
      "image/png": "[encoded data removed]",
      "text/plain": [
       "<Figure size 640x480 with 1 Axes>"
      ]
     },
     "metadata": {},
     "output_type": "display_data"
    }
   ],
   "source": [
    "#On utilise la fonction plot qui prend en parametre 2 listes de points en abcisses et en ordonnées, il faut que ces 2 listes \n",
    "#soit de même longueur car un point ne peut être un point sans avoir un abcisse et un ordonnée.\n",
    "\n",
    "#Un point sera une liste de 2 cases tels que p = (2, 3) --> abcisse : 2, ordonnée : 3\n",
    "\n",
    "#La fonction plot utilise 2 liste donc nous devons faire en sorte que plusieurs point (x,y) devienne une liste d'abcisse \n",
    "#et d'ordonnées.\n",
    "\n",
    "#Création plusieurs points aléatoires.\n",
    "tabX = random(10)\n",
    "tabY = random(10)\n",
    "grid(True)\n",
    "plot(tabX, tabY, 'r.')\n",
    "title(\"Representation random\")\n",
    "xlabel(\"Abcisse, x\")#On donne un nom à l'axe des abcisses\n",
    "ylabel(\"Ordonnée, y\")#On donne un nom à l'axe des ordonnées\n",
    "xlim(-11,11) #On précise le champ des abcisses\n",
    "ylim(-11,11)"
   ]
  },
  {
   "cell_type": "markdown",
   "metadata": {},
   "source": [
    "<div style=\"background-color:rgba(0, 0, 255, 0.57); border : 3px solid black; border-radius : 19px;margin : 0% 10% ; padding : 1%;text-align : center;font-size : 2em;\">\n",
    "    Etape 2 : Point le plus à gauche.\n",
    "</div>\n",
    "<p>Après présentations des points nous partons du point le plus à gauche (abcisse le plus inférieur, x).\n",
    "</p>\n",
    "<p>Nous allons créer une fonction abcisse et ordonnées qui retourne l'abcisse et l'ordonnée d'un point puis la fonction aGauche qui retourne le point avec l'abcisse le plus bas donc le plus à Gauche.</p>"
   ]
  },
  {
   "cell_type": "code",
   "execution_count": 14,
   "metadata": {},
   "outputs": [
    {
     "name": "stdout",
     "output_type": "stream",
     "text": [
      "La liste de point est : [[2, 9], [-1, -6], [-6, 7], [-3, 6], [-9, -9], [0, 9], [7, 3], [1, -10], [1, -4], [5, -4]]\n",
      "Et le point le plus à gauche est :[-9, -9]\n"
     ]
    }
   ],
   "source": [
    "def abcisse(x) : \n",
    "    return x[0]\n",
    "\n",
    "def ordonnee(x) : \n",
    "    return x[1]\n",
    "\n",
    "\n",
    "def aGauche(x):\n",
    "    \"\"\"\n",
    "    x : liste de point\n",
    "    return le point le plus a gauche : x le plus inférieur\n",
    "    \"\"\"\n",
    "    i = 0\n",
    "    test = abcisse(x[0])\n",
    "    res = []\n",
    "    mark = True # Marquage qui nous permet de retourner le 1er point de la liste si il est le plus petit\n",
    "    while i < len(x) - 1:\n",
    "        if test > abcisse(x[i+1]):\n",
    "            test = abcisse(x[i+1])\n",
    "            res = x[i+1]\n",
    "            mark = False\n",
    "        i += 1\n",
    "    if mark == True:\n",
    "        return x[0]\n",
    "    else:\n",
    "        return res\n",
    "\n",
    "x = random(10)\n",
    "y = random(10)\n",
    "z = liste(x,y)\n",
    "print(\"La liste de point est : \"+str(z))\n",
    "print(\"Et le point le plus à gauche est :\"+str(aGauche(z)))\n",
    "\n",
    "#On essaie avec le programme aléatoire au dessus"
   ]
  },
  {
   "cell_type": "markdown",
   "metadata": {},
   "source": [
    "<div style=\"background-color:rgba(0, 0, 255, 0.57); border : 3px solid black; border-radius : 19px;margin : 0% 10% ; padding : 1%;text-align : center;font-size : 2em;\">Etape 3 : Comparaison des points. </div>\n",
    "<p>Comparer les points pour trouver celui qui tourne le plus à gauche en partant du premier point pour trouver le point à \"éliminer\".</p>\n",
    "<p>Nous allons utiliser une formule qui permet de trouver quelle point éliminer, cette formule a besoin des coordonnées de 3 points : les coordonnées du point dans l'enveloppe convexe (Q), le point possiblement dans l'enveloppe convexe (P) et le point qui est comparé au point possiblement dans l'enveloppe convexe pour voir si il est meilleur candidat (P).</p>\n",
    "<p>La formule pour la comparaison est : ($Q_x$ - $P_x$) x ($R_y$ - $P_y$) - ($Q_y$ - $P_y$) x ($R_x$ - $P_x$), $Q_x$ pour l'abscisse de $Q$ et $Q_y$ pour l'ordonnée de $Q$.</p>\n",
    "<p>Cette formule nous permet de savoir quelle point éliminer en regardant le sens du triangle QPR, si le triangle est de sens horaire alors nous gardons le point candidat Q et nous changeons le point R et si le triangle n'est pas de sens horaire alors le point R devient le point Q et nous changeons de point R si il y en a encore à tester. Si la formule donne un résultat négatif alors le point R change et nous gardons Q, si la formule donne un résultat positif alors le point R devient le point Q et nous changeons encore une fois le point R (Voir fonction jarvis) et si la formule donne 0 alors les points sont colinéaires. </p>"
   ]
  },
  {
   "cell_type": "code",
   "execution_count": 6,
   "metadata": {},
   "outputs": [
    {
     "name": "stdout",
     "output_type": "stream",
     "text": [
      "Le point a vaut : [-2, 5]\n",
      "Le point b vaut : [-4, -3]\n",
      "Le point c vaut : [6, 0]\n",
      "La comparaison de ces 3 point est : 74\n"
     ]
    }
   ],
   "source": [
    "\n",
    "def comparaison(P,Q,R):\n",
    "    \"\"\"\n",
    "    Définition une fonction comparaison qui prend en paramètre 3 point (le points déja dans l'enveloppe convexe P, le candidat Q,\n",
    "et celui qu'on compare R)\n",
    "    \"\"\"\n",
    "    Px = abcisse(P)\n",
    "    Qx = abcisse(Q)\n",
    "    Rx = abcisse(R)\n",
    "    Py = ordonnee(P)\n",
    "    Qy = ordonnee(Q)\n",
    "    Ry = ordonnee(R)\n",
    "    return (Qx - Px)*(Ry - Py) - (Qy - Py)*(Rx - Px)\n",
    "\n",
    "a = [randint(-10,10),randint(-10,10)]\n",
    "print(\"Le point a vaut : \"+str(a))\n",
    "b = [randint(-10,10),randint(-10,10)]\n",
    "print(\"Le point b vaut : \"+str(b))\n",
    "c = [randint(-10,10),randint(-10,10)]\n",
    "print(\"Le point c vaut : \"+str(c))\n",
    "print(\"La comparaison de ces 3 point est : \"+str(comparaison(a,b,c)))"
   ]
  },
  {
   "cell_type": "markdown",
   "metadata": {},
   "source": [
    "<p>Quelques simple fonction qui seront utiles plus tard.</p>"
   ]
  },
  {
   "cell_type": "code",
   "execution_count": 7,
   "metadata": {},
   "outputs": [],
   "source": [
    "\n",
    "\n",
    "#Fonction qui transforme 2 listes d'abcisses et d'ordonnées en liste de points (x, y)\n",
    "def liste(x, y):\n",
    "    \"\"\"\n",
    "    return une liste de point \n",
    "    parametre : x= liste d'abcisse, y= liste d'ordonnée\n",
    "    \"\"\"\n",
    "    if len(x) != len(y):\n",
    "        return None \n",
    "    liste = []\n",
    "    point = []\n",
    "    i = 0\n",
    "    while i < len(x):\n",
    "        point.append(x[i])\n",
    "        point.append(y[i])\n",
    "        liste.append(point)\n",
    "        i += 1\n",
    "        point = []\n",
    "    return liste\n",
    "\n",
    "#Fonction qui transforme une liste de point en une liste contenant une liste d'abscisse et une d'ordonnée.\n",
    "def point(x):\n",
    "    \"\"\"\n",
    "    return 1 liste avec 2 liste à l'intérieur une d'abcisse et une d'ordonnée\n",
    "    parametre : x= liste de points\n",
    "    \"\"\"\n",
    "    if len(x) == 0:\n",
    "        return None #Si la liste est vide on return none\n",
    "    i = 0\n",
    "    abc = []\n",
    "    ordon = []\n",
    "    res = []\n",
    "    while i < len(x):\n",
    "        X = x[i][0]\n",
    "        abc.append(X)\n",
    "        X = x[i][1]\n",
    "        ordon.append(X)\n",
    "        i += 1\n",
    "    res.append(abc)\n",
    "    res.append(ordon)\n",
    "    return res\n"
   ]
  },
  {
   "cell_type": "code",
   "execution_count": 8,
   "metadata": {},
   "outputs": [],
   "source": [
    "#Supprime dans une liste de points un point en paramètre (Fonction inutile mais je la laisse quand même)\n",
    "def supprime(point, listePoint):\n",
    "    \"\"\"\n",
    "    Supprime dans une liste de points un point en parametre\n",
    "    point : le point qu'on veut supprimer\n",
    "    listePoint : la liste dans laquelle on veut supprimer le points\n",
    "    \"\"\"\n",
    "    i = 0\n",
    "    while i < len(listePoint):\n",
    "        if listePoint[i] == point:\n",
    "            listePoint.pop(i)\n",
    "            return listePoint\n",
    "        i += 1\n",
    "    return listePoint"
   ]
  },
  {
   "cell_type": "code",
   "execution_count": 9,
   "metadata": {},
   "outputs": [],
   "source": [
    "#Fonction aussi inutile...\n",
    "def copie(tab, tab1):\n",
    "    \"\"\"\n",
    "    Copie le point tab1 dans tab sans que tab soit une reference de tab1\n",
    "    \"\"\"\n",
    "    tab.append(abcisse(tab1))\n",
    "    tab.append(ordonnee(tab1))\n",
    "    return tab"
   ]
  },
  {
   "cell_type": "code",
   "execution_count": 13,
   "metadata": {},
   "outputs": [
    {
     "name": "stdout",
     "output_type": "stream",
     "text": [
      "x = [-2, 2, -6, -10, -5, -1, 7, 9, 5, 3]\n",
      "Le dernier est le plus petit ? : False\n"
     ]
    }
   ],
   "source": [
    "def pluspetit(x):\n",
    "    i = 0\n",
    "    res = x[i]\n",
    "    while i < len(x) - 1:\n",
    "        if res > x[i+1]:\n",
    "            res = x[i + 1]\n",
    "        i += 1\n",
    "    if res == x[len(x) - 1]: \n",
    "        return True\n",
    "    return False\n",
    "\n",
    "x = rand(10)\n",
    "print(\"x = \"+str(x))\n",
    "print(\"Le dernier est le plus petit ? : \"+str(pluspetit(x)))"
   ]
  },
  {
   "cell_type": "code",
   "execution_count": 11,
   "metadata": {},
   "outputs": [],
   "source": [
    "def doublon(x):\n",
    "    \"\"\"\n",
    "    Fonction qui enlève les doublons d'une liste de points \n",
    "    x : liste de point\n",
    "    \"\"\"\n",
    "    i = 0\n",
    "    while i < len(x) - 1:\n",
    "        indice = i\n",
    "        while indice < len(x) - 1:\n",
    "            if x[i] == x[indice + 1]:\n",
    "                x.pop(indice + 1)\n",
    "            indice += 1\n",
    "        i += 1\n",
    "    return x\n"
   ]
  },
  {
   "cell_type": "code",
   "execution_count": 12,
   "metadata": {},
   "outputs": [],
   "source": [
    "def rand(x):\n",
    "    \"\"\"\n",
    "    Fait un tableau avec des randint dedans.\n",
    "    x : longueur du tableau random souhaité\n",
    "    \"\"\"\n",
    "    i = 0\n",
    "    tab = []\n",
    "    while i < x:\n",
    "        tab.append(randint(-100,10))\n",
    "        i += 1\n",
    "    return tab"
   ]
  },
  {
   "cell_type": "markdown",
   "metadata": {},
   "source": [
    "<div style=\"background-color:rgba(0, 0, 255, 0.57); border : 3px solid black; border-radius : 19px;margin : 0% 10% ; padding : 1%;text-align : center;font-size : 2em;\">Etape 4 : Fonction qui fait tout automatiquement.</div>\n",
    "<p>La complexité pour le pire des cas est $n^2$ pour $n$ nombre de points.</p>"
   ]
  },
  {
   "cell_type": "code",
   "execution_count": 15,
   "metadata": {},
   "outputs": [
    {
     "name": "stdout",
     "output_type": "stream",
     "text": [
      "La liste d'abscisse est :[10, -1, -2, -4, -4, 3, -1, -4, 0, 8]\n",
      "La liste d'ordonnée est :[-1, -2, 6, 6, -7, -2, 4, -6, -1, 10]\n",
      "[[10, -1], [-1, -2], [-2, 6], [-4, 6], [-4, -7], [3, -2], [-1, 4], [-4, -6], [0, -1], [8, 10]]\n",
      "[[10, -1], [-1, -2], [-2, 6], [-4, 6], [-4, -7], [3, -2], [-1, 4], [-4, -6], [0, -1], [8, 10]]\n",
      "L'enveloppe convexe des ses points est : [[-4, 6], [8, 10], [10, -1], [-4, -7], [-4, -6]]\n"
     ]
    },
    {
     "data": {
      "text/plain": [
       "(-11.0, 11.0)"
      ]
     },
     "execution_count": 15,
     "metadata": {},
     "output_type": "execute_result"
    },
    {
     "data": {
      "image/png": "[encoded data removed]",
      "text/plain": [
       "<Figure size 640x480 with 1 Axes>"
      ]
     },
     "metadata": {},
     "output_type": "display_data"
    }
   ],
   "source": [
    "\n",
    "\n",
    "def jarvis(Q,R):\n",
    "    \"\"\"\n",
    "    Q= liste d'abcisses\n",
    "    R= liste d'ordonnées\n",
    "    return les coordonnées des points de l'enveloppe convexe\n",
    "    \"\"\"\n",
    "    nuageDePoint = liste(Q,R) #On utilise la fonction liste pour faire une liste de point en utilisant une liste d'abcisse et d'ordonnée\n",
    "    #Trouvons le point le plus a gauche car il fait forcément partie de l'enveloppe convexe\n",
    "    print(nuageDePoint)\n",
    "    nuageDePoint = doublon(nuageDePoint) # Supprime les doublons si il y en a \n",
    "    print(nuageDePoint)\n",
    "    p1 = []\n",
    "    p2 = aGauche(nuageDePoint)\n",
    "    p1 = p2.copy() # valeur du point le plus a gauche et pas simplement une référence du point dans la liste\n",
    "    enveloppe = []\n",
    "    enveloppe.append(p1) # On ajoute le point le plus a gauche car il est dans l'enveloppe convexe\n",
    "    i = 0\n",
    "    while i < len(nuageDePoint):\n",
    "        nuageDePointCopie = []\n",
    "        nuageDePointCopie = nuageDePoint.copy()\n",
    "        while i < len(nuageDePointCopie) - 1:\n",
    "            if comparaison(p1,nuageDePointCopie[0],nuageDePointCopie[1]) < 0:\n",
    "                nuageDePointCopie.pop(1)\n",
    "            else:\n",
    "                nuageDePointCopie.pop(0)\n",
    "        if nuageDePointCopie[0] == p2:\n",
    "            return enveloppe\n",
    "        else:\n",
    "            enveloppe.append(nuageDePointCopie[0])\n",
    "        p1 = enveloppe[len(enveloppe) - 1]\n",
    "        indice = 0\n",
    "        while nuageDePointCopie[0] != nuageDePoint[indice]:\n",
    "            indice += 1\n",
    "        nuageDePoint.pop(indice) #On supprime le point ajouter à l'enveloppe convexe car il n'a pas plus besoin d'être testé\n",
    "\n",
    "#J'ai fais un petit programme pour illustrer l'enveloppes convexe        \n",
    "\n",
    "absx = rand(10)\n",
    "ordo = rand(10)\n",
    "print(\"La liste d'abscisse est :\"+str(absx))\n",
    "print(\"La liste d'ordonnée est :\"+str(ordo))\n",
    "marche = jarvis(absx, ordo)\n",
    "print(\"L'enveloppe convexe des ses points est : \"+str(marche))\n",
    "marche.append(marche[0])\n",
    "lespoints = point(marche)\n",
    "grid(True)\n",
    "plot(absx, ordo, 'g.')\n",
    "plot(lespoints[0], lespoints[1], 'r')\n",
    "title(\"Representation test\")\n",
    "xlabel(\"Abcisse, x\")#On donne un nom à l'axe des abcisses\n",
    "ylabel(\"Ordonnée, y\")#On donne un nom à l'axe des ordonnées\n",
    "xlim(-11,11) #On précise le champ des abcisses\n",
    "ylim(-11,11)"
   ]
  },
  {
   "cell_type": "code",
   "execution_count": null,
   "metadata": {},
   "outputs": [],
   "source": []
  }
 ],
 "metadata": {
  "hide_input": false,
  "kernelspec": {
   "display_name": "Python 3 (ipykernel)",
   "language": "python",
   "name": "python3"
  },
  "language_info": {
   "codemirror_mode": {
    "name": "ipython",
    "version": 3
   },
   "file_extension": ".py",
   "mimetype": "text/x-python",
   "name": "python",
   "nbconvert_exporter": "python",
   "pygments_lexer": "ipython3",
   "version": "3.10.7"
  }
 },
 "nbformat": 4,
 "nbformat_minor": 2
}
